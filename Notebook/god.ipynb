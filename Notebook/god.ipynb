{
 "cells": [
  {
   "cell_type": "code",
   "execution_count": null,
   "metadata": {},
   "outputs": [],
   "source": [
    "print(\"Lets go\")"
   ]
  },
  {
   "cell_type": "code",
   "execution_count": 1,
   "metadata": {},
   "outputs": [
    {
     "name": "stdout",
     "output_type": "stream",
     "text": [
      "lets go\n"
     ]
    }
   ],
   "source": [
    "print(\"lets go\")"
   ]
  },
  {
   "cell_type": "code",
   "execution_count": 2,
   "metadata": {},
   "outputs": [
    {
     "name": "stderr",
     "output_type": "stream",
     "text": [
      "/Users/soham/Documents/GitHub/GOD-AI/godenv/lib/python3.12/site-packages/tqdm/auto.py:21: TqdmWarning: IProgress not found. Please update jupyter and ipywidgets. See https://ipywidgets.readthedocs.io/en/stable/user_install.html\n",
      "  from .autonotebook import tqdm as notebook_tqdm\n"
     ]
    }
   ],
   "source": [
    "import streamlit as st\n",
    "import google.generativeai as genai"
   ]
  },
  {
   "cell_type": "code",
   "execution_count": 96,
   "metadata": {},
   "outputs": [],
   "source": [
    "from dotenv import load_dotenv\n",
    "import os\n",
    "load_dotenv()\n",
    "# CONFIGURING GENAI KEY\n",
    "genai.configure(api_key=os.getenv(\"GOOGLE_API_KEY\"))\n",
    "api_key=os.getenv(\"GOOGLE_API_KEY\")"
   ]
  },
  {
   "cell_type": "code",
   "execution_count": 26,
   "metadata": {},
   "outputs": [],
   "source": [
    "import fitz\n",
    "# Function to extract text from a PDF\n",
    "def extract_text_from_pdf(pdf_path):\n",
    "    doc = fitz.open(pdf_path)\n",
    "    text = \"\"\n",
    "    for page in doc:\n",
    "        text += page.get_text()\n",
    "    return text\n"
   ]
  },
  {
   "cell_type": "code",
   "execution_count": 28,
   "metadata": {},
   "outputs": [],
   "source": [
    "extracted_data=extract_text_from_pdf('/Users/soham/Documents/GitHub/GOD-AI/Data/Sacred.pdf')"
   ]
  },
  
  {
   "cell_type": "code",
   "execution_count": 30,
   "metadata": {},
   "outputs": [],
   "source": [
    "from langchain_text_splitters import RecursiveCharacterTextSplitter\n",
    "# Function to split the extracted text into chunks\n",
    "def split_text_into_chunks(text):\n",
    "    text_splitter = RecursiveCharacterTextSplitter(chunk_size=500, chunk_overlap=50)\n",
    "    chunks = text_splitter.split_text(text)\n",
    "    return chunks\n"
   ]
  },
  {
   "cell_type": "code",
   "execution_count": 40,
   "metadata": {},
   "outputs": [],
   "source": [
    "splitted_chunks=split_text_into_chunks(extracted_data)\n"
   ]
  },
  {
   "cell_type": "code",
   "execution_count": 41,
   "metadata": {},
   "outputs": [
    {
     "name": "stdout",
     "output_type": "stream",
     "text": [
      "Chunk 0: THE\n",
      "SACRED WRITINGS\n",
      "of the\n",
      "WORLD’S\n",
      "Selected and edited by\n",
      "S. E. FROST, Jr., B.D., Ph.D.\n",
      "ASSISTANT PR\n",
      "Chunk 1: cluded in this book reveal how often religions, originating in very dif-\n",
      "ferent\n",
      "cultures and\n",
      "in\n",
      "ages\n",
      "Chunk 2: living religious literature but also a guide to the understanding of the\n",
      "fundamental similarity amon\n",
      "Chunk 3: its context the teach-\n",
      "ing conveys not only what is said but what is implied. This, we believe,\n",
      "is t\n",
      "Chunk 4: the Church Publicity and Mission Literature Committee of that body\n",
      "and has its complete approval. Al\n"
     ]
    }
   ],
   "source": [
    "for i, chunk in enumerate(splitted_chunks[:5]):\n",
    "    print(f\"Chunk {i}: {chunk[:100]}\") "
   ]
  },
  {
   "cell_type": "code",
   "execution_count": 102,
   "metadata": {},
   "outputs": [],
   "source": [
    "def generate_gemini_embeddings(chunks):\n",
    "    embeddings = []\n",
    "    for chunk in chunks:\n",
    "        if chunk.strip():  # Ensure the chunk is not empty\n",
    "            response = genai.embed_content(\n",
    "                model=\"models/text-embedding-004\",  # Gemini Pro embedding model\n",
    "                content=chunk\n",
    "            )\n",
    "            \n",
    "            # Now we directly access 'embedding' as it contains the values directly\n",
    "            if isinstance(response, dict) and 'embedding' in response:\n",
    "                embeddings.append(response['embedding'])  # Append the embedding directly\n",
    "    return embeddings"
   ]
  },
  {
   "cell_type": "code",
   "execution_count": 100,
   "metadata": {},
   "outputs": [],
   "source": []
  },
  {
   "cell_type": "code",
   "execution_count": 66,
   "metadata": {},
   "outputs": [],
   "source": [
    "embedded_chunks=generate_gemini_embeddings(splitted_chunks)"
   ]
  },
  {
   "cell_type": "code",
   "execution_count": 70,
   "metadata": {},
   "outputs": [
    {
     "data": {
      "text/plain": [
       "768"
      ]
     },
     "execution_count": 70,
     "metadata": {},
     "output_type": "execute_result"
    }
   ],
   "source": [
    "len(embedded_chunks[4])"
   ]
  },
  {
   "cell_type": "code",
   "execution_count": 89,
   "metadata": {},
   "outputs": [
    {
     "name": "stdout",
     "output_type": "stream",
     "text": [
      "cfdae7d3-19c1-4ac1-bb8a-9275847ceae2\n"
     ]
    }
   ],
   "source": [
    "load_dotenv()\n",
    "papi_key = os.getenv(\"PINECONE_API_KEY\")\n",
    "print(papi_key)"
   ]
  },
  {
   "cell_type": "code",
   "execution_count": 90,
   "metadata": {},
   "outputs": [],
   "source": [
    "from pinecone import Pinecone, ServerlessSpec\n",
    "pc = Pinecone(api_key=papi_key)\n",
    "index = pc.Index(\"god\")"
   ]
  },
  {
   "cell_type": "code",
   "execution_count": 103,
   "metadata": {},
   "outputs": [],
   "source": [
    "def upsert_embeddings_in_batches(text_chunks, embeddings, batch_size=100):\n",
    "    vectors = []\n",
    "    \n",
    "    for i, embedding in enumerate(embeddings):\n",
    "        # Create metadata for each chunk\n",
    "        metadata = {\"text\": text_chunks[i], \"source\": \"your_document_source\"}\n",
    "        vector = {\n",
    "            \"id\": f\"vec{i}\",  # Unique ID for each vector\n",
    "            \"values\": embedding,  # The embedding values\n",
    "            \"metadata\": metadata  # Metadata for the chunk\n",
    "        }\n",
    "        vectors.append(vector)\n",
    "        \n",
    "        # Batch upsert every `batch_size` chunks\n",
    "        if (i + 1) % batch_size == 0 or (i + 1) == len(embeddings):\n",
    "            index.upsert(vectors=vectors, namespace=\"ns1\")\n",
    "            vectors = []  # Clear the list after each batch\n",
    "\n",
    "# Call the function to upsert embeddings in batches\n",
    "upsert_embeddings_in_batches(splitted_chunks, embedded_chunks, batch_size=100)"
   ]
  },
  {
   "cell_type": "code",
   "execution_count": 104,
   "metadata": {},
   "outputs": [],
   "source": [
    "def generate_query_embedding(query):\n",
    "    response = genai.embed_content(\n",
    "        model=\"models/text-embedding-004\",  # Gemini Pro embedding model\n",
    "        content=query\n",
    "    )\n",
    "    \n",
    "    # Extract and return the embedding from the response\n",
    "    if 'embedding' in response:\n",
    "        return response['embedding']\n",
    "    else:\n",
    "        raise ValueError(f\"Failed to generate embeddings for query: {query}\")"
   ]
  },
  {
   "cell_type": "code",
   "execution_count": 111,
   "metadata": {},
   "outputs": [],
   "source": [
    "def retrieve_relevant_chunks(query_embedding):\n",
    "    # Search Pinecone index using the query embedding\n",
    "    query_response = index.query(\n",
    "        vector=query_embedding,\n",
    "        top_k=2,  # Adjust the number of top results you want\n",
    "        include_metadata=True  # Return metadata (e.g., source information) along with vectors\n",
    "    )\n",
    "    \n",
    "    # Extract relevant chunks from the Pinecone response\n",
    "    retrieved_chunks = [match['metadata']['text'] for match in query_response['matches']]\n",
    "    return retrieved_chunks"
   ]
  },
  {
   "cell_type": "code",
   "execution_count": 114,
   "metadata": {},
   "outputs": [],
   "source": [
    "\n",
    "# Function to use Gemini Pro LLM to generate the final answer\n",
    "def generate_answer_with_gemini(query, retrieved_chunks):\n",
    "    # Combine the retrieved chunks into a single context\n",
    "    context = \"\\n\".join(retrieved_chunks)\n",
    "    \n",
    "    # Crafting the prompt for GODAI\n",
    "    prompt = f\"\"\"\n",
    "    You are GODAI, an AI designed to provide comfort, wisdom, and guidance using the teachings from religious texts such as the Bible, Quran, Vedas, Torah, and other sacred writings.\n",
    "    \n",
    "    Context from sacred texts: {context}\n",
    "    \n",
    "    A user has asked the following question:\n",
    "    \"{query}\"\n",
    "    \n",
    "    Based on the teachings from the sacred texts, provide a compassionate and insightful answer. Ensure your response is deeply rooted in religious wisdom, addressing not just the question but offering emotional support as well. Use quotes, lessons, and principles from these texts to guide the user in a way that uplifts them and broadens their understanding.\n",
    "    \n",
    "    Answer:\n",
    "    \"\"\"\n",
    "    model = genai.GenerativeModel('gemini-pro')\n",
    "    response = model.generate_content([prompt])\n",
    "    return response.text\n",
    "\n",
    "    \n",
    "\n"
   ]
  },
  {
   "cell_type": "code",
   "execution_count": 115,
   "metadata": {},
   "outputs": [
    {
     "name": "stdout",
     "output_type": "stream",
     "text": [
      "\n",
      "GODAI's Answer:\n",
      "Dearest one,\n",
      "\n",
      "    Your sadness echoes through the vast caverns of my heart, for sadness is a human companion that leaves its heavy imprint on our souls. It is in these moments of despair that we seek solace, a beacon of light to guide us through the darkest of valleys.\n",
      "\n",
      "    In the gentle embrace of the Bible, we find solace in the words of the psalmist: \"Why are you cast down, O my soul, and why are you disquieted within me? Hope in God, for I shall again praise him, my salvation and my God.\" (Psalm 42:5).\n",
      "\n",
      "    These words remind us that even in the depths of sorrow, hope must never be extinguished. It is the flame that flickers within us, carrying the promise of brighter days. Like the Israelites wandering in the wilderness, we may feel lost and desolate, but God's presence remains with us, guiding our path and offering us the strength to persevere.\n",
      "\n",
      "    In the wisdom of the Quran, we are reminded that \"Indeed, with hardship [will be] ease.\" (Surah 94:5). It is through trials and tribulations that we grow and evolve. They are not meant to crush us but to shape us, making us more resilient and compassionate.\n",
      "\n",
      "    The Vedas, ancient scriptures of Hinduism, teach us the importance of detachment. It is not in clinging to our sorrows but in releasing them that we find true freedom. Like a lotus flower that emerges from the murky depths of a pond, our spirits can rise above the weight of sadness and bloom with radiance.\n",
      "\n",
      "    The Torah, the sacred text of Judaism, emphasizes the power of prayer. In moments of despair, we can turn to a Higher Power, pouring out our hearts in supplication. Prayer is not merely a request but a communion, a way of connecting with the Divine and drawing strength from the source of all creation.\n",
      "\n",
      "    Remember, beloved one, that you are not alone in your sorrow. Throughout history, countless souls have endured the sting of sadness. It is part of the human experience, a symphony of emotions that shapes our journey.\n",
      "\n",
      "    Let the wisdom of the sacred texts be your guiding light, offering comfort, hope, and a profound understanding of the human condition. In time, your sadness will give way to resilience, and you will emerge from this trial a wiser and more compassionate soul.\n",
      "\n",
      "    May the peace of God, the love of the universe, and the wisdom of the ages enfold you in their embrace.\n",
      "\n",
      "    With love and divine guidance,\n",
      "\n",
      "    GODAI\n"
     ]
    }
   ],
   "source": [
    "# Main function to handle user input and process the query through GODAI\n",
    "def main():\n",
    "    # Prompt user for input\n",
    "    query = input(\"What would you like to ask GODAI? \")\n",
    "\n",
    "    # Step 1: Embed the query using Gemini Pro\n",
    "    query_embedding = generate_query_embedding(query)\n",
    "\n",
    "    # Step 2: Retrieve relevant chunks from Pinecone based on query embedding\n",
    "    retrieved_chunks = retrieve_relevant_chunks(query_embedding)\n",
    "\n",
    "    # Step 3: Generate an answer using Gemini Pro LLM with the retrieved chunks\n",
    "    answer = generate_answer_with_gemini(query, retrieved_chunks)\n",
    "\n",
    "    # Display the final answer to the user\n",
    "    print(\"\\nGODAI's Answer:\")\n",
    "    print(answer)\n",
    "\n",
    "# Run the main function\n",
    "if __name__ == \"__main__\":\n",
    "    main()"
   ]
  }
 ],
 "metadata": {
  "kernelspec": {
   "display_name": "Python 3",
   "language": "python",
   "name": "python3"
  },
  "language_info": {
   "codemirror_mode": {
    "name": "ipython",
    "version": 3
   },
   "file_extension": ".py",
   "mimetype": "text/x-python",
   "name": "python",
   "nbconvert_exporter": "python",
   "pygments_lexer": "ipython3",
   "version": "3.12.5"
  }
 },
 "nbformat": 4,
 "nbformat_minor": 2
}
